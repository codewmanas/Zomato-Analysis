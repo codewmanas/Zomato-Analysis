{
 "cells": [
  {
   "cell_type": "markdown",
   "id": "69498917",
   "metadata": {},
   "source": [
    "# Zomato Data Analysis Project\n",
    "\n",
    "## Step 1 : Importing Libraries"
   ]
  },
  {
   "cell_type": "code",
   "execution_count": 1,
   "id": "9da4ce35",
   "metadata": {},
   "outputs": [
    {
     "name": "stdout",
     "output_type": "stream",
     "text": [
      "                      name online_order book_table   rate  votes  \\\n",
      "0                    Jalsa          Yes        Yes  4.1/5    775   \n",
      "1           Spice Elephant          Yes         No  4.1/5    787   \n",
      "2          San Churro Cafe          Yes         No  3.8/5    918   \n",
      "3    Addhuri Udupi Bhojana           No         No  3.7/5     88   \n",
      "4            Grand Village           No         No  3.8/5    166   \n",
      "..                     ...          ...        ...    ...    ...   \n",
      "143       Melting Melodies           No         No  3.3/5      0   \n",
      "144        New Indraprasta           No         No  3.3/5      0   \n",
      "145           Anna Kuteera          Yes         No  4.0/5    771   \n",
      "146                 Darbar           No         No  3.0/5     98   \n",
      "147          Vijayalakshmi          Yes         No  3.9/5     47   \n",
      "\n",
      "     approx_cost(for two people) listed_in(type)  \n",
      "0                            800          Buffet  \n",
      "1                            800          Buffet  \n",
      "2                            800          Buffet  \n",
      "3                            300          Buffet  \n",
      "4                            600          Buffet  \n",
      "..                           ...             ...  \n",
      "143                          100          Dining  \n",
      "144                          150          Dining  \n",
      "145                          450          Dining  \n",
      "146                          800          Dining  \n",
      "147                          200          Dining  \n",
      "\n",
      "[148 rows x 7 columns]\n"
     ]
    }
   ],
   "source": [
    "import pandas as pd\n",
    "import numpy as np\n",
    "import matplotlib.pyplot as plt\n",
    "import seaborn as sns\n",
    "\n",
    "dataframe = pd.read_csv(\"Zomato data .csv\")\n",
    "print(dataframe)"
   ]
  },
  {
   "cell_type": "markdown",
   "id": "14d5f834",
   "metadata": {},
   "source": [
    "## Convert the Datatype of column - rate"
   ]
  },
  {
   "cell_type": "code",
   "execution_count": 7,
   "id": "eff39cb2",
   "metadata": {},
   "outputs": [
    {
     "name": "stdout",
     "output_type": "stream",
     "text": [
      "                                              name online_order book_table  \\\n",
      "0                                            Jalsa          Yes        Yes   \n",
      "1                                   Spice Elephant          Yes         No   \n",
      "2                                  San Churro Cafe          Yes         No   \n",
      "3                            Addhuri Udupi Bhojana           No         No   \n",
      "4                                    Grand Village           No         No   \n",
      "5                                  Timepass Dinner          Yes         No   \n",
      "6  Rosewood International Hotel - Bar & Restaurant           No         No   \n",
      "\n",
      "   rate  votes  approx_cost(for two people) listed_in(type)  \n",
      "0   4.1    775                          800          Buffet  \n",
      "1   4.1    787                          800          Buffet  \n",
      "2   3.8    918                          800          Buffet  \n",
      "3   3.7     88                          300          Buffet  \n",
      "4   3.8    166                          600          Buffet  \n",
      "5   3.8    286                          600          Buffet  \n",
      "6   3.6      8                          800          Buffet  \n"
     ]
    }
   ],
   "source": [
    "def rateDisplay(value): # --> Takes the rate as a parameter\n",
    "    value = str(value).split('/') # --> Converts each rate into an array of 2 elements eg. [4.1, 5]\n",
    "    value = value[0] # --> Accessing the 1st element which will be the user rating\n",
    "    return float(value)\n",
    "\n",
    "dataframe['rate'] = dataframe['rate'].apply(rateDisplay)\n",
    "print(dataframe.head(7)) # --> head() function is used to print limited no. of rows. The default is 5\n",
    "\n"
   ]
  },
  {
   "cell_type": "code",
   "execution_count": 8,
   "id": "0730bc35",
   "metadata": {},
   "outputs": [
    {
     "name": "stdout",
     "output_type": "stream",
     "text": [
      "<class 'pandas.core.frame.DataFrame'>\n",
      "RangeIndex: 148 entries, 0 to 147\n",
      "Data columns (total 7 columns):\n",
      " #   Column                       Non-Null Count  Dtype  \n",
      "---  ------                       --------------  -----  \n",
      " 0   name                         148 non-null    object \n",
      " 1   online_order                 148 non-null    object \n",
      " 2   book_table                   148 non-null    object \n",
      " 3   rate                         148 non-null    float64\n",
      " 4   votes                        148 non-null    int64  \n",
      " 5   approx_cost(for two people)  148 non-null    int64  \n",
      " 6   listed_in(type)              148 non-null    object \n",
      "dtypes: float64(1), int64(2), object(4)\n",
      "memory usage: 8.2+ KB\n"
     ]
    }
   ],
   "source": [
    "dataframe.info()"
   ]
  }
 ],
 "metadata": {
  "kernelspec": {
   "display_name": "Python 3",
   "language": "python",
   "name": "python3"
  },
  "language_info": {
   "codemirror_mode": {
    "name": "ipython",
    "version": 3
   },
   "file_extension": ".py",
   "mimetype": "text/x-python",
   "name": "python",
   "nbconvert_exporter": "python",
   "pygments_lexer": "ipython3",
   "version": "3.12.6"
  }
 },
 "nbformat": 4,
 "nbformat_minor": 5
}
