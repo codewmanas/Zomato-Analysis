{
 "cells": [
  {
   "cell_type": "code",
   "execution_count": null,
   "id": "dfa39152-c9f6-4235-a2b0-795652f46051",
   "metadata": {
    "vscode": {
     "languageId": "python"
    }
   },
   "outputs": [],
   "source": [
    "print(\"Hello Manav Kevin\")"
   ]
  },
  {
   "cell_type": "code",
   "execution_count": null,
   "id": "935e93de",
   "metadata": {
    "vscode": {
     "languageId": "python"
    }
   },
   "outputs": [],
   "source": [
    "print(\"Hello Manas\")"
   ]
  }
 ],
 "metadata": {
  "kernelspec": {
   "display_name": "",
   "name": ""
  },
  "language_info": {
   "name": ""
  }
 },
 "nbformat": 4,
 "nbformat_minor": 5
}
